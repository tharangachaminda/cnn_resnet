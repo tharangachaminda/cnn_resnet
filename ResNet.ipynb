{
 "cells": [
  {
   "cell_type": "markdown",
   "id": "902cb837-8449-4826-9076-7459c008eb2a",
   "metadata": {},
   "source": [
    "# Residual Neural Network for image classification\n",
    "Very deep neural networks suffer from a problem called **vanishing/exploding gradients**. In the year 2015 Kaiming He, et al proposed a solution for this in their research paper [Deep Residual Learning for Image Recognition](https://arxiv.org/pdf/1512.03385.pdf). A Residual Network, also known as *ResNet*, is a type of deep learning network architecture that introduces the concept of *residual learning*.\n",
    "\n",
    "In this project I will be implementing a ResNet using ResNet50 architecture which consists of 50 layers."
   ]
  },
  {
   "cell_type": "markdown",
   "id": "8e57357b-0186-4131-a22d-6519b38bf3e5",
   "metadata": {},
   "source": [
    "<div><div class=\"alert alert-info\">\n",
    "    <h3>Table of content:</h3>\n",
    "    <ol>\n",
    "        <li><a href=\"#create_idetity_block\">Create Identity block</a></li>\n",
    "        <li><a href=\"#conv_block\">Convolutional Block</a></li>\n",
    "        <li><a href=\"#resnet50_function\">Implement ResNet (50 Layers)</a></li>\n",
    "        <li><a href=\"#configure_learning_process\">Configure Learning Process</a></li>\n",
    "        <li><a href=\"#load_dataset\">Load Dataset</a></li>\n",
    "        <li><a href=\"#train_model\">Train ResNet50</a></li>\n",
    "        <li><a href=\"#save_model\">Save the model</a></li>\n",
    "    </ol>\n",
    "</div>"
   ]
  },
  {
   "cell_type": "code",
   "execution_count": 1,
   "id": "04a1c232-809f-4790-8d30-b3458a17c616",
   "metadata": {},
   "outputs": [],
   "source": [
    "import tensorflow as tf\n",
    "import numpy as np\n",
    "import scipy.misc\n",
    "from tensorflow.keras.applications.resnet_v2 import ResNet50V2\n",
    "from tensorflow.keras.preprocessing import image\n",
    "from tensorflow.keras.applications.resnet_v2 import preprocess_input, decode_predictions\n",
    "from tensorflow.keras import layers\n",
    "from tensorflow.keras.layers import Input, Add, Dense, Activation, ZeroPadding2D, Flatten, Conv2D, AveragePooling2D, MaxPooling2D, GlobalMaxPooling2D\n",
    "from tensorflow.keras.models import Model, load_model\n",
    "from resnets_utils import *\n",
    "from tensorflow.keras.initializers import random_uniform, glorot_uniform, constant, identity\n",
    "from tensorflow.python.framework.ops import EagerTensor\n",
    "from matplotlib.pyplot import imshow\n",
    "\n",
    "%matplotlib inline"
   ]
  },
  {
   "cell_type": "markdown",
   "id": "e02c4061-2046-49ce-ad79-1de82b63243b",
   "metadata": {},
   "source": [
    "<a id=\"create_idetity_block\"></a>\n",
    "## Identity block\n",
    "<p>ResNet architecture introduces the concept of residual learning, where the input from the previous layer is added to the output of the current layer.</p>\n",
    "<p>An <b>Identity Block</b> is a specific type of residual block where the <i><b>input and output have the same dimensions</b></i>.</p>\n",
    "<p>This is the plan to build Identity block. <b>Identity block.</b> Skip connection \"skips over\" 3 layers.</p>\n",
    "\n",
    "<img src=\"images/idblock.png\" width=\"750\">"
   ]
  },
  {
   "cell_type": "code",
   "execution_count": 2,
   "id": "caa1b874-afd7-4dd4-82f0-d7753336b9cf",
   "metadata": {},
   "outputs": [],
   "source": [
    "def identity_block(X, f, filters, initializer=random_uniform):\n",
    "    \"\"\"\n",
    "    Implementation of the identity block.\n",
    "    \n",
    "    Arguments:\n",
    "    X -- input tensor of shape (m, n_H_prev, n_W_prew, n_C_prev)\n",
    "    f -- integer, specifying the shape of the number of filters in the CONV's window for the main path\n",
    "    filters -- python list of integers, defining the number of filters in the CONV layers of the main path\n",
    "    initializer -- to set up the initial weights of a layer. Equals to random iniform initializer\n",
    "    \n",
    "    Returns:\n",
    "    X -- output of the identity block, tensor of shape (m, n_H, n_W, n_C)\n",
    "    \"\"\"\n",
    "    \n",
    "    # Retrieve Filters\n",
    "    F1, F2, F3 = filters\n",
    "    \n",
    "    # Save the input value. We'll need this later to add back to the main path\n",
    "    X_shortcut = X\n",
    "    \n",
    "    # First component of main path\n",
    "    X = Conv2D(filters=F1, kernel_size=1, strides=(1, 1), padding='valid', kernel_initializer=initializer(seed=24))(X)\n",
    "    X = BatchNormalization(axis=3)(X)\n",
    "    X = Activation('relu')(X)\n",
    "    \n",
    "    # Second component of main path\n",
    "    X = Conv2D(filters=F2, kernel_size=f, strides=(1, 1), padding='same', kernel_initializer=initializer(seed=24))(X)\n",
    "    X = BatchNormalization(axis=3)(X)\n",
    "    X = Activation('relu')(X)\n",
    "    \n",
    "    # Third component of the main path\n",
    "    X = Conv2D(filters=F3, kernel_size=1, strides=(1, 1), padding='same', kernel_initializer=initializer(seed=24))(X)\n",
    "    X = BatchNormalization(axis=3)(X)\n",
    "    \n",
    "    # Final step: Add shortcut value to main path, and pass it throuh a ReLU activation\n",
    "    X = Add()([X, X_shortcut])\n",
    "    X = Activation('relu')(X)\n",
    "    \n",
    "    return X"
   ]
  },
  {
   "cell_type": "markdown",
   "id": "4b4b5122-5888-424b-886f-ab7668eb4c6d",
   "metadata": {},
   "source": [
    "<a id=\"conv_block\"></a>\n",
    "## Convolutional Block\n",
    "<p>A convolutional block is another type of building block that makes up the overall architecture of ResNet. Unlike the identity block, which preserves the input identity, convolutional block is designed to change the dimensions of the input.</p>\n",
    "\n",
    "<img src=\"images/convblock.png\" width=\"750\" />"
   ]
  },
  {
   "cell_type": "code",
   "execution_count": 3,
   "id": "dcae7a57-ee99-4aa3-a88d-dcba941a7a7d",
   "metadata": {},
   "outputs": [],
   "source": [
    "def convolutional_block(X, f, filters, s = 2, initializer=glorot_uniform):\n",
    "    \"\"\"\n",
    "    Implementation of the convolutional block.\n",
    "    \n",
    "    Arguments:\n",
    "    X -- Input tensor of shape (m, n_H_prev, n_W_prev, n_C_prev)\n",
    "    f -- Integer, specifying the shape of the middle CONV's window for the main path\n",
    "    filters -- python list of integers, defining the number of filters in the CONV layers of the main path\n",
    "    s -- Integer, specifying the stride to be used\n",
    "    initializer -- to set up the initial weights of a layer. Equals to Glorot uniform initializer, also called Xavier uniform initializer.\n",
    "    \n",
    "    Returns:\n",
    "    X -- output of the convolutional block, tensor of shape (m, n_H, n_W, n_C)\n",
    "    \"\"\"\n",
    "    \n",
    "    # Retrive Filters\n",
    "    F1, F2, F3 = filters\n",
    "    \n",
    "    # Save the input value\n",
    "    X_shortcut = X\n",
    "    \n",
    "    ### Main Path ###\n",
    "    # First component of main path\n",
    "    X = Conv2D(filters=F1, kernel_size=1, strides=(s, s), padding='valid', kernel_initializer=initializer(seed=24))(X)\n",
    "    X = BatchNormalization(axis=3)(X)\n",
    "    X = Activation('relu')(X)\n",
    "    \n",
    "    # Second component of the main path\n",
    "    X = Conv2D(filters=F2, kernel_size=f, strides=(1, 1), padding='same', kernel_initializer=initializer(seed=24))(X)\n",
    "    X = BatchNormalization(axis=3)(X)\n",
    "    X = Activation('relu')(X)\n",
    "    \n",
    "    # Third component of the main path\n",
    "    X = Conv2D(filters=F3, kernel_size=1, strides=(1, 1), padding='valid', kernel_initializer=initializer(seed=24))(X)\n",
    "    X = BatchNormalization(axis=3)(X)\n",
    "    \n",
    "    ### Shortcut Path ###\n",
    "    X_shortcut = Conv2D(filters=F3, kernel_size=1, strides=(s, s), padding='valid', kernel_initializer=initializer(seed=24))(X_shortcut)\n",
    "    X_shortcut = BatchNormalization(axis=3)(X_shortcut)\n",
    "    \n",
    "    # Final step: Add shourtcut value to the main path\n",
    "    X = Add()([X, X_shortcut])\n",
    "    X = Activation('relu')(X)\n",
    "    \n",
    "    return X"
   ]
  },
  {
   "cell_type": "markdown",
   "id": "3440cc1e-0465-4328-98df-43dd1816b9f2",
   "metadata": {},
   "source": [
    "<a id=\"resnet50_function\"></a>\n",
    "## Building the ResNet (50 layers)\n",
    "<p><a href=\"https://arxiv.org/pdf/1512.03385.pdf\" target=\"_blank\">ResNet50</a> in a very popular Residual Network architecture. Now we have all necessary building blocks to build our ResNet.</p>\n",
    "<p>Following diagram shows the architecture of the ResNet I'm building in this project.</p>\n",
    "<ul>\n",
    "    <li><b>ID BLOCK</b> in the diagram stands for \"Identity Block\"</li>\n",
    "    <li><b>ID BLOCK x3</b> means 3 identity blocks are stacked together</li>\n",
    "</ul>\n",
    "\n",
    "<img src=\"images/resnet.png\" />"
   ]
  },
  {
   "cell_type": "code",
   "execution_count": 4,
   "id": "b638d3ae-70eb-443b-a33f-7765bd1cd7da",
   "metadata": {},
   "outputs": [],
   "source": [
    "def ResNet50(input_shape=(64, 64, 3), classes=6, training=False):\n",
    "    \"\"\"\n",
    "    Stage-wise implementation of the architecture of the popular ResNet50\n",
    "    CONV2D -> BATCHNORM -> RELU -> MAXPOOL -> CONVBLOCK -> IDBLOCK*2 -> CONVBLOCK -> IDBLOCK*3\n",
    "    -> CONVBLOCK -> IDBLOCK*5 -> CONVBLOCK -> IDBLOCK*2 -> AVGPOOL -> FLATTEN -> DENSE\n",
    "    \n",
    "    Arguments:\n",
    "    input_shape -- shape of the images of the dataset\n",
    "    classes -- integer, number of classes\n",
    "    \n",
    "    Return:\n",
    "    model -- a Model() instance in Keras    \n",
    "    \"\"\"\n",
    "    \n",
    "    # Define the input as a tensor with shape input input_shape\n",
    "    X_input = Input(input_shape)\n",
    "    \n",
    "    # Zero padding\n",
    "    X = ZeroPadding2D((3, 3))(X_input)\n",
    "    \n",
    "    # Stage 1\n",
    "    X = Conv2D(filters=64, kernel_size=(7, 7), strides=(2, 2), kernel_initializer=glorot_uniform(seed=24))(X)\n",
    "    X = BatchNormalization(axis=3)(X)\n",
    "    X = Activation('relu')(X)\n",
    "    X = MaxPooling2D((3, 3), strides=(2, 2))(X)\n",
    "    \n",
    "    # Stage 2\n",
    "    X = convolutional_block(X, f=3, filters=[64, 64, 256], s=1)\n",
    "    X = identity_block(X, f=3, filters=[64, 64, 256])\n",
    "    X = identity_block(X, f=3, filters=[64, 64, 256])\n",
    "    \n",
    "    # Stage 3\n",
    "    X = convolutional_block(X, f=3, filters=[128, 128, 512], s=2)\n",
    "    X = identity_block(X, f=3, filters=[128, 128, 512])\n",
    "    X = identity_block(X, f=3, filters=[128, 128, 512])\n",
    "    X = identity_block(X, f=3, filters=[128, 128, 512])\n",
    "    \n",
    "    # Stage 4\n",
    "    X = convolutional_block(X, f=3, filters=[512, 512, 1024], s=2)\n",
    "    X = identity_block(X, f=3, filters=[256, 256, 1024])\n",
    "    X = identity_block(X, f=3, filters=[256, 256, 1024])\n",
    "    X = identity_block(X, f=3, filters=[256, 256, 1024])\n",
    "    X = identity_block(X, f=3, filters=[256, 256, 1024])\n",
    "    X = identity_block(X, f=3, filters=[256, 256, 1024])\n",
    "    \n",
    "    # Stage 5\n",
    "    X = convolutional_block(X, f=3, filters=[512, 512, 2048], s=2)\n",
    "    X = identity_block(X, f=3, filters=[512, 512, 2048])\n",
    "    X = identity_block(X, f=3, filters=[512, 512, 2048])\n",
    "    \n",
    "    # AveragePool\n",
    "    X = AveragePooling2D(pool_size=(2, 2))(X)\n",
    "    \n",
    "    # Output layer\n",
    "    X = Flatten()(X)\n",
    "    X = Dense(classes, activation='softmax', kernel_initializer=glorot_uniform(seed=24))(X)\n",
    "    \n",
    "    # Create model\n",
    "    model = Model(inputs=X_input, outputs=X)\n",
    "    \n",
    "    return model"
   ]
  },
  {
   "cell_type": "code",
   "execution_count": 5,
   "id": "a07fa552-3263-486e-b3b0-94356ae89de4",
   "metadata": {},
   "outputs": [
    {
     "name": "stdout",
     "output_type": "stream",
     "text": [
      "Model: \"model\"\n",
      "__________________________________________________________________________________________________\n",
      " Layer (type)                Output Shape                 Param #   Connected to                  \n",
      "==================================================================================================\n",
      " input_1 (InputLayer)        [(None, 64, 64, 3)]          0         []                            \n",
      "                                                                                                  \n",
      " zero_padding2d (ZeroPaddin  (None, 70, 70, 3)            0         ['input_1[0][0]']             \n",
      " g2D)                                                                                             \n",
      "                                                                                                  \n",
      " conv2d (Conv2D)             (None, 32, 32, 64)           9472      ['zero_padding2d[0][0]']      \n",
      "                                                                                                  \n",
      " batch_normalization (Batch  (None, 32, 32, 64)           256       ['conv2d[0][0]']              \n",
      " Normalization)                                                                                   \n",
      "                                                                                                  \n",
      " activation (Activation)     (None, 32, 32, 64)           0         ['batch_normalization[0][0]'] \n",
      "                                                                                                  \n",
      " max_pooling2d (MaxPooling2  (None, 15, 15, 64)           0         ['activation[0][0]']          \n",
      " D)                                                                                               \n",
      "                                                                                                  \n",
      " conv2d_1 (Conv2D)           (None, 15, 15, 64)           4160      ['max_pooling2d[0][0]']       \n",
      "                                                                                                  \n",
      " batch_normalization_1 (Bat  (None, 15, 15, 64)           256       ['conv2d_1[0][0]']            \n",
      " chNormalization)                                                                                 \n",
      "                                                                                                  \n",
      " activation_1 (Activation)   (None, 15, 15, 64)           0         ['batch_normalization_1[0][0]'\n",
      "                                                                    ]                             \n",
      "                                                                                                  \n",
      " conv2d_2 (Conv2D)           (None, 15, 15, 64)           36928     ['activation_1[0][0]']        \n",
      "                                                                                                  \n",
      " batch_normalization_2 (Bat  (None, 15, 15, 64)           256       ['conv2d_2[0][0]']            \n",
      " chNormalization)                                                                                 \n",
      "                                                                                                  \n",
      " activation_2 (Activation)   (None, 15, 15, 64)           0         ['batch_normalization_2[0][0]'\n",
      "                                                                    ]                             \n",
      "                                                                                                  \n",
      " conv2d_3 (Conv2D)           (None, 15, 15, 256)          16640     ['activation_2[0][0]']        \n",
      "                                                                                                  \n",
      " conv2d_4 (Conv2D)           (None, 15, 15, 256)          16640     ['max_pooling2d[0][0]']       \n",
      "                                                                                                  \n",
      " batch_normalization_3 (Bat  (None, 15, 15, 256)          1024      ['conv2d_3[0][0]']            \n",
      " chNormalization)                                                                                 \n",
      "                                                                                                  \n",
      " batch_normalization_4 (Bat  (None, 15, 15, 256)          1024      ['conv2d_4[0][0]']            \n",
      " chNormalization)                                                                                 \n",
      "                                                                                                  \n",
      " add (Add)                   (None, 15, 15, 256)          0         ['batch_normalization_3[0][0]'\n",
      "                                                                    , 'batch_normalization_4[0][0]\n",
      "                                                                    ']                            \n",
      "                                                                                                  \n",
      " activation_3 (Activation)   (None, 15, 15, 256)          0         ['add[0][0]']                 \n",
      "                                                                                                  \n",
      " conv2d_5 (Conv2D)           (None, 15, 15, 64)           16448     ['activation_3[0][0]']        \n",
      "                                                                                                  \n",
      " batch_normalization_5 (Bat  (None, 15, 15, 64)           256       ['conv2d_5[0][0]']            \n",
      " chNormalization)                                                                                 \n",
      "                                                                                                  \n",
      " activation_4 (Activation)   (None, 15, 15, 64)           0         ['batch_normalization_5[0][0]'\n",
      "                                                                    ]                             \n",
      "                                                                                                  \n",
      " conv2d_6 (Conv2D)           (None, 15, 15, 64)           36928     ['activation_4[0][0]']        \n",
      "                                                                                                  \n",
      " batch_normalization_6 (Bat  (None, 15, 15, 64)           256       ['conv2d_6[0][0]']            \n",
      " chNormalization)                                                                                 \n",
      "                                                                                                  \n",
      " activation_5 (Activation)   (None, 15, 15, 64)           0         ['batch_normalization_6[0][0]'\n",
      "                                                                    ]                             \n",
      "                                                                                                  \n",
      " conv2d_7 (Conv2D)           (None, 15, 15, 256)          16640     ['activation_5[0][0]']        \n",
      "                                                                                                  \n",
      " batch_normalization_7 (Bat  (None, 15, 15, 256)          1024      ['conv2d_7[0][0]']            \n",
      " chNormalization)                                                                                 \n",
      "                                                                                                  \n",
      " add_1 (Add)                 (None, 15, 15, 256)          0         ['batch_normalization_7[0][0]'\n",
      "                                                                    , 'activation_3[0][0]']       \n",
      "                                                                                                  \n",
      " activation_6 (Activation)   (None, 15, 15, 256)          0         ['add_1[0][0]']               \n",
      "                                                                                                  \n",
      " conv2d_8 (Conv2D)           (None, 15, 15, 64)           16448     ['activation_6[0][0]']        \n",
      "                                                                                                  \n",
      " batch_normalization_8 (Bat  (None, 15, 15, 64)           256       ['conv2d_8[0][0]']            \n",
      " chNormalization)                                                                                 \n",
      "                                                                                                  \n",
      " activation_7 (Activation)   (None, 15, 15, 64)           0         ['batch_normalization_8[0][0]'\n",
      "                                                                    ]                             \n",
      "                                                                                                  \n",
      " conv2d_9 (Conv2D)           (None, 15, 15, 64)           36928     ['activation_7[0][0]']        \n",
      "                                                                                                  \n",
      " batch_normalization_9 (Bat  (None, 15, 15, 64)           256       ['conv2d_9[0][0]']            \n",
      " chNormalization)                                                                                 \n",
      "                                                                                                  \n",
      " activation_8 (Activation)   (None, 15, 15, 64)           0         ['batch_normalization_9[0][0]'\n",
      "                                                                    ]                             \n",
      "                                                                                                  \n",
      " conv2d_10 (Conv2D)          (None, 15, 15, 256)          16640     ['activation_8[0][0]']        \n",
      "                                                                                                  \n",
      " batch_normalization_10 (Ba  (None, 15, 15, 256)          1024      ['conv2d_10[0][0]']           \n",
      " tchNormalization)                                                                                \n",
      "                                                                                                  \n",
      " add_2 (Add)                 (None, 15, 15, 256)          0         ['batch_normalization_10[0][0]\n",
      "                                                                    ',                            \n",
      "                                                                     'activation_6[0][0]']        \n",
      "                                                                                                  \n",
      " activation_9 (Activation)   (None, 15, 15, 256)          0         ['add_2[0][0]']               \n",
      "                                                                                                  \n",
      " conv2d_11 (Conv2D)          (None, 8, 8, 128)            32896     ['activation_9[0][0]']        \n",
      "                                                                                                  \n",
      " batch_normalization_11 (Ba  (None, 8, 8, 128)            512       ['conv2d_11[0][0]']           \n",
      " tchNormalization)                                                                                \n",
      "                                                                                                  \n",
      " activation_10 (Activation)  (None, 8, 8, 128)            0         ['batch_normalization_11[0][0]\n",
      "                                                                    ']                            \n",
      "                                                                                                  \n",
      " conv2d_12 (Conv2D)          (None, 8, 8, 128)            147584    ['activation_10[0][0]']       \n",
      "                                                                                                  \n",
      " batch_normalization_12 (Ba  (None, 8, 8, 128)            512       ['conv2d_12[0][0]']           \n",
      " tchNormalization)                                                                                \n",
      "                                                                                                  \n",
      " activation_11 (Activation)  (None, 8, 8, 128)            0         ['batch_normalization_12[0][0]\n",
      "                                                                    ']                            \n",
      "                                                                                                  \n",
      " conv2d_13 (Conv2D)          (None, 8, 8, 512)            66048     ['activation_11[0][0]']       \n",
      "                                                                                                  \n",
      " conv2d_14 (Conv2D)          (None, 8, 8, 512)            131584    ['activation_9[0][0]']        \n",
      "                                                                                                  \n",
      " batch_normalization_13 (Ba  (None, 8, 8, 512)            2048      ['conv2d_13[0][0]']           \n",
      " tchNormalization)                                                                                \n",
      "                                                                                                  \n",
      " batch_normalization_14 (Ba  (None, 8, 8, 512)            2048      ['conv2d_14[0][0]']           \n",
      " tchNormalization)                                                                                \n",
      "                                                                                                  \n",
      " add_3 (Add)                 (None, 8, 8, 512)            0         ['batch_normalization_13[0][0]\n",
      "                                                                    ',                            \n",
      "                                                                     'batch_normalization_14[0][0]\n",
      "                                                                    ']                            \n",
      "                                                                                                  \n",
      " activation_12 (Activation)  (None, 8, 8, 512)            0         ['add_3[0][0]']               \n",
      "                                                                                                  \n",
      " conv2d_15 (Conv2D)          (None, 8, 8, 128)            65664     ['activation_12[0][0]']       \n",
      "                                                                                                  \n",
      " batch_normalization_15 (Ba  (None, 8, 8, 128)            512       ['conv2d_15[0][0]']           \n",
      " tchNormalization)                                                                                \n",
      "                                                                                                  \n",
      " activation_13 (Activation)  (None, 8, 8, 128)            0         ['batch_normalization_15[0][0]\n",
      "                                                                    ']                            \n",
      "                                                                                                  \n",
      " conv2d_16 (Conv2D)          (None, 8, 8, 128)            147584    ['activation_13[0][0]']       \n",
      "                                                                                                  \n",
      " batch_normalization_16 (Ba  (None, 8, 8, 128)            512       ['conv2d_16[0][0]']           \n",
      " tchNormalization)                                                                                \n",
      "                                                                                                  \n",
      " activation_14 (Activation)  (None, 8, 8, 128)            0         ['batch_normalization_16[0][0]\n",
      "                                                                    ']                            \n",
      "                                                                                                  \n",
      " conv2d_17 (Conv2D)          (None, 8, 8, 512)            66048     ['activation_14[0][0]']       \n",
      "                                                                                                  \n",
      " batch_normalization_17 (Ba  (None, 8, 8, 512)            2048      ['conv2d_17[0][0]']           \n",
      " tchNormalization)                                                                                \n",
      "                                                                                                  \n",
      " add_4 (Add)                 (None, 8, 8, 512)            0         ['batch_normalization_17[0][0]\n",
      "                                                                    ',                            \n",
      "                                                                     'activation_12[0][0]']       \n",
      "                                                                                                  \n",
      " activation_15 (Activation)  (None, 8, 8, 512)            0         ['add_4[0][0]']               \n",
      "                                                                                                  \n",
      " conv2d_18 (Conv2D)          (None, 8, 8, 128)            65664     ['activation_15[0][0]']       \n",
      "                                                                                                  \n",
      " batch_normalization_18 (Ba  (None, 8, 8, 128)            512       ['conv2d_18[0][0]']           \n",
      " tchNormalization)                                                                                \n",
      "                                                                                                  \n",
      " activation_16 (Activation)  (None, 8, 8, 128)            0         ['batch_normalization_18[0][0]\n",
      "                                                                    ']                            \n",
      "                                                                                                  \n",
      " conv2d_19 (Conv2D)          (None, 8, 8, 128)            147584    ['activation_16[0][0]']       \n",
      "                                                                                                  \n",
      " batch_normalization_19 (Ba  (None, 8, 8, 128)            512       ['conv2d_19[0][0]']           \n",
      " tchNormalization)                                                                                \n",
      "                                                                                                  \n",
      " activation_17 (Activation)  (None, 8, 8, 128)            0         ['batch_normalization_19[0][0]\n",
      "                                                                    ']                            \n",
      "                                                                                                  \n",
      " conv2d_20 (Conv2D)          (None, 8, 8, 512)            66048     ['activation_17[0][0]']       \n",
      "                                                                                                  \n",
      " batch_normalization_20 (Ba  (None, 8, 8, 512)            2048      ['conv2d_20[0][0]']           \n",
      " tchNormalization)                                                                                \n",
      "                                                                                                  \n",
      " add_5 (Add)                 (None, 8, 8, 512)            0         ['batch_normalization_20[0][0]\n",
      "                                                                    ',                            \n",
      "                                                                     'activation_15[0][0]']       \n",
      "                                                                                                  \n",
      " activation_18 (Activation)  (None, 8, 8, 512)            0         ['add_5[0][0]']               \n",
      "                                                                                                  \n",
      " conv2d_21 (Conv2D)          (None, 8, 8, 128)            65664     ['activation_18[0][0]']       \n",
      "                                                                                                  \n",
      " batch_normalization_21 (Ba  (None, 8, 8, 128)            512       ['conv2d_21[0][0]']           \n",
      " tchNormalization)                                                                                \n",
      "                                                                                                  \n",
      " activation_19 (Activation)  (None, 8, 8, 128)            0         ['batch_normalization_21[0][0]\n",
      "                                                                    ']                            \n",
      "                                                                                                  \n",
      " conv2d_22 (Conv2D)          (None, 8, 8, 128)            147584    ['activation_19[0][0]']       \n",
      "                                                                                                  \n",
      " batch_normalization_22 (Ba  (None, 8, 8, 128)            512       ['conv2d_22[0][0]']           \n",
      " tchNormalization)                                                                                \n",
      "                                                                                                  \n",
      " activation_20 (Activation)  (None, 8, 8, 128)            0         ['batch_normalization_22[0][0]\n",
      "                                                                    ']                            \n",
      "                                                                                                  \n",
      " conv2d_23 (Conv2D)          (None, 8, 8, 512)            66048     ['activation_20[0][0]']       \n",
      "                                                                                                  \n",
      " batch_normalization_23 (Ba  (None, 8, 8, 512)            2048      ['conv2d_23[0][0]']           \n",
      " tchNormalization)                                                                                \n",
      "                                                                                                  \n",
      " add_6 (Add)                 (None, 8, 8, 512)            0         ['batch_normalization_23[0][0]\n",
      "                                                                    ',                            \n",
      "                                                                     'activation_18[0][0]']       \n",
      "                                                                                                  \n",
      " activation_21 (Activation)  (None, 8, 8, 512)            0         ['add_6[0][0]']               \n",
      "                                                                                                  \n",
      " conv2d_24 (Conv2D)          (None, 4, 4, 512)            262656    ['activation_21[0][0]']       \n",
      "                                                                                                  \n",
      " batch_normalization_24 (Ba  (None, 4, 4, 512)            2048      ['conv2d_24[0][0]']           \n",
      " tchNormalization)                                                                                \n",
      "                                                                                                  \n",
      " activation_22 (Activation)  (None, 4, 4, 512)            0         ['batch_normalization_24[0][0]\n",
      "                                                                    ']                            \n",
      "                                                                                                  \n",
      " conv2d_25 (Conv2D)          (None, 4, 4, 512)            2359808   ['activation_22[0][0]']       \n",
      "                                                                                                  \n",
      " batch_normalization_25 (Ba  (None, 4, 4, 512)            2048      ['conv2d_25[0][0]']           \n",
      " tchNormalization)                                                                                \n",
      "                                                                                                  \n",
      " activation_23 (Activation)  (None, 4, 4, 512)            0         ['batch_normalization_25[0][0]\n",
      "                                                                    ']                            \n",
      "                                                                                                  \n",
      " conv2d_26 (Conv2D)          (None, 4, 4, 1024)           525312    ['activation_23[0][0]']       \n",
      "                                                                                                  \n",
      " conv2d_27 (Conv2D)          (None, 4, 4, 1024)           525312    ['activation_21[0][0]']       \n",
      "                                                                                                  \n",
      " batch_normalization_26 (Ba  (None, 4, 4, 1024)           4096      ['conv2d_26[0][0]']           \n",
      " tchNormalization)                                                                                \n",
      "                                                                                                  \n",
      " batch_normalization_27 (Ba  (None, 4, 4, 1024)           4096      ['conv2d_27[0][0]']           \n",
      " tchNormalization)                                                                                \n",
      "                                                                                                  \n",
      " add_7 (Add)                 (None, 4, 4, 1024)           0         ['batch_normalization_26[0][0]\n",
      "                                                                    ',                            \n",
      "                                                                     'batch_normalization_27[0][0]\n",
      "                                                                    ']                            \n",
      "                                                                                                  \n",
      " activation_24 (Activation)  (None, 4, 4, 1024)           0         ['add_7[0][0]']               \n",
      "                                                                                                  \n",
      " conv2d_28 (Conv2D)          (None, 4, 4, 256)            262400    ['activation_24[0][0]']       \n",
      "                                                                                                  \n",
      " batch_normalization_28 (Ba  (None, 4, 4, 256)            1024      ['conv2d_28[0][0]']           \n",
      " tchNormalization)                                                                                \n",
      "                                                                                                  \n",
      " activation_25 (Activation)  (None, 4, 4, 256)            0         ['batch_normalization_28[0][0]\n",
      "                                                                    ']                            \n",
      "                                                                                                  \n",
      " conv2d_29 (Conv2D)          (None, 4, 4, 256)            590080    ['activation_25[0][0]']       \n",
      "                                                                                                  \n",
      " batch_normalization_29 (Ba  (None, 4, 4, 256)            1024      ['conv2d_29[0][0]']           \n",
      " tchNormalization)                                                                                \n",
      "                                                                                                  \n",
      " activation_26 (Activation)  (None, 4, 4, 256)            0         ['batch_normalization_29[0][0]\n",
      "                                                                    ']                            \n",
      "                                                                                                  \n",
      " conv2d_30 (Conv2D)          (None, 4, 4, 1024)           263168    ['activation_26[0][0]']       \n",
      "                                                                                                  \n",
      " batch_normalization_30 (Ba  (None, 4, 4, 1024)           4096      ['conv2d_30[0][0]']           \n",
      " tchNormalization)                                                                                \n",
      "                                                                                                  \n",
      " add_8 (Add)                 (None, 4, 4, 1024)           0         ['batch_normalization_30[0][0]\n",
      "                                                                    ',                            \n",
      "                                                                     'activation_24[0][0]']       \n",
      "                                                                                                  \n",
      " activation_27 (Activation)  (None, 4, 4, 1024)           0         ['add_8[0][0]']               \n",
      "                                                                                                  \n",
      " conv2d_31 (Conv2D)          (None, 4, 4, 256)            262400    ['activation_27[0][0]']       \n",
      "                                                                                                  \n",
      " batch_normalization_31 (Ba  (None, 4, 4, 256)            1024      ['conv2d_31[0][0]']           \n",
      " tchNormalization)                                                                                \n",
      "                                                                                                  \n",
      " activation_28 (Activation)  (None, 4, 4, 256)            0         ['batch_normalization_31[0][0]\n",
      "                                                                    ']                            \n",
      "                                                                                                  \n",
      " conv2d_32 (Conv2D)          (None, 4, 4, 256)            590080    ['activation_28[0][0]']       \n",
      "                                                                                                  \n",
      " batch_normalization_32 (Ba  (None, 4, 4, 256)            1024      ['conv2d_32[0][0]']           \n",
      " tchNormalization)                                                                                \n",
      "                                                                                                  \n",
      " activation_29 (Activation)  (None, 4, 4, 256)            0         ['batch_normalization_32[0][0]\n",
      "                                                                    ']                            \n",
      "                                                                                                  \n",
      " conv2d_33 (Conv2D)          (None, 4, 4, 1024)           263168    ['activation_29[0][0]']       \n",
      "                                                                                                  \n",
      " batch_normalization_33 (Ba  (None, 4, 4, 1024)           4096      ['conv2d_33[0][0]']           \n",
      " tchNormalization)                                                                                \n",
      "                                                                                                  \n",
      " add_9 (Add)                 (None, 4, 4, 1024)           0         ['batch_normalization_33[0][0]\n",
      "                                                                    ',                            \n",
      "                                                                     'activation_27[0][0]']       \n",
      "                                                                                                  \n",
      " activation_30 (Activation)  (None, 4, 4, 1024)           0         ['add_9[0][0]']               \n",
      "                                                                                                  \n",
      " conv2d_34 (Conv2D)          (None, 4, 4, 256)            262400    ['activation_30[0][0]']       \n",
      "                                                                                                  \n",
      " batch_normalization_34 (Ba  (None, 4, 4, 256)            1024      ['conv2d_34[0][0]']           \n",
      " tchNormalization)                                                                                \n",
      "                                                                                                  \n",
      " activation_31 (Activation)  (None, 4, 4, 256)            0         ['batch_normalization_34[0][0]\n",
      "                                                                    ']                            \n",
      "                                                                                                  \n",
      " conv2d_35 (Conv2D)          (None, 4, 4, 256)            590080    ['activation_31[0][0]']       \n",
      "                                                                                                  \n",
      " batch_normalization_35 (Ba  (None, 4, 4, 256)            1024      ['conv2d_35[0][0]']           \n",
      " tchNormalization)                                                                                \n",
      "                                                                                                  \n",
      " activation_32 (Activation)  (None, 4, 4, 256)            0         ['batch_normalization_35[0][0]\n",
      "                                                                    ']                            \n",
      "                                                                                                  \n",
      " conv2d_36 (Conv2D)          (None, 4, 4, 1024)           263168    ['activation_32[0][0]']       \n",
      "                                                                                                  \n",
      " batch_normalization_36 (Ba  (None, 4, 4, 1024)           4096      ['conv2d_36[0][0]']           \n",
      " tchNormalization)                                                                                \n",
      "                                                                                                  \n",
      " add_10 (Add)                (None, 4, 4, 1024)           0         ['batch_normalization_36[0][0]\n",
      "                                                                    ',                            \n",
      "                                                                     'activation_30[0][0]']       \n",
      "                                                                                                  \n",
      " activation_33 (Activation)  (None, 4, 4, 1024)           0         ['add_10[0][0]']              \n",
      "                                                                                                  \n",
      " conv2d_37 (Conv2D)          (None, 4, 4, 256)            262400    ['activation_33[0][0]']       \n",
      "                                                                                                  \n",
      " batch_normalization_37 (Ba  (None, 4, 4, 256)            1024      ['conv2d_37[0][0]']           \n",
      " tchNormalization)                                                                                \n",
      "                                                                                                  \n",
      " activation_34 (Activation)  (None, 4, 4, 256)            0         ['batch_normalization_37[0][0]\n",
      "                                                                    ']                            \n",
      "                                                                                                  \n",
      " conv2d_38 (Conv2D)          (None, 4, 4, 256)            590080    ['activation_34[0][0]']       \n",
      "                                                                                                  \n",
      " batch_normalization_38 (Ba  (None, 4, 4, 256)            1024      ['conv2d_38[0][0]']           \n",
      " tchNormalization)                                                                                \n",
      "                                                                                                  \n",
      " activation_35 (Activation)  (None, 4, 4, 256)            0         ['batch_normalization_38[0][0]\n",
      "                                                                    ']                            \n",
      "                                                                                                  \n",
      " conv2d_39 (Conv2D)          (None, 4, 4, 1024)           263168    ['activation_35[0][0]']       \n",
      "                                                                                                  \n",
      " batch_normalization_39 (Ba  (None, 4, 4, 1024)           4096      ['conv2d_39[0][0]']           \n",
      " tchNormalization)                                                                                \n",
      "                                                                                                  \n",
      " add_11 (Add)                (None, 4, 4, 1024)           0         ['batch_normalization_39[0][0]\n",
      "                                                                    ',                            \n",
      "                                                                     'activation_33[0][0]']       \n",
      "                                                                                                  \n",
      " activation_36 (Activation)  (None, 4, 4, 1024)           0         ['add_11[0][0]']              \n",
      "                                                                                                  \n",
      " conv2d_40 (Conv2D)          (None, 4, 4, 256)            262400    ['activation_36[0][0]']       \n",
      "                                                                                                  \n",
      " batch_normalization_40 (Ba  (None, 4, 4, 256)            1024      ['conv2d_40[0][0]']           \n",
      " tchNormalization)                                                                                \n",
      "                                                                                                  \n",
      " activation_37 (Activation)  (None, 4, 4, 256)            0         ['batch_normalization_40[0][0]\n",
      "                                                                    ']                            \n",
      "                                                                                                  \n",
      " conv2d_41 (Conv2D)          (None, 4, 4, 256)            590080    ['activation_37[0][0]']       \n",
      "                                                                                                  \n",
      " batch_normalization_41 (Ba  (None, 4, 4, 256)            1024      ['conv2d_41[0][0]']           \n",
      " tchNormalization)                                                                                \n",
      "                                                                                                  \n",
      " activation_38 (Activation)  (None, 4, 4, 256)            0         ['batch_normalization_41[0][0]\n",
      "                                                                    ']                            \n",
      "                                                                                                  \n",
      " conv2d_42 (Conv2D)          (None, 4, 4, 1024)           263168    ['activation_38[0][0]']       \n",
      "                                                                                                  \n",
      " batch_normalization_42 (Ba  (None, 4, 4, 1024)           4096      ['conv2d_42[0][0]']           \n",
      " tchNormalization)                                                                                \n",
      "                                                                                                  \n",
      " add_12 (Add)                (None, 4, 4, 1024)           0         ['batch_normalization_42[0][0]\n",
      "                                                                    ',                            \n",
      "                                                                     'activation_36[0][0]']       \n",
      "                                                                                                  \n",
      " activation_39 (Activation)  (None, 4, 4, 1024)           0         ['add_12[0][0]']              \n",
      "                                                                                                  \n",
      " conv2d_43 (Conv2D)          (None, 2, 2, 512)            524800    ['activation_39[0][0]']       \n",
      "                                                                                                  \n",
      " batch_normalization_43 (Ba  (None, 2, 2, 512)            2048      ['conv2d_43[0][0]']           \n",
      " tchNormalization)                                                                                \n",
      "                                                                                                  \n",
      " activation_40 (Activation)  (None, 2, 2, 512)            0         ['batch_normalization_43[0][0]\n",
      "                                                                    ']                            \n",
      "                                                                                                  \n",
      " conv2d_44 (Conv2D)          (None, 2, 2, 512)            2359808   ['activation_40[0][0]']       \n",
      "                                                                                                  \n",
      " batch_normalization_44 (Ba  (None, 2, 2, 512)            2048      ['conv2d_44[0][0]']           \n",
      " tchNormalization)                                                                                \n",
      "                                                                                                  \n",
      " activation_41 (Activation)  (None, 2, 2, 512)            0         ['batch_normalization_44[0][0]\n",
      "                                                                    ']                            \n",
      "                                                                                                  \n",
      " conv2d_45 (Conv2D)          (None, 2, 2, 2048)           1050624   ['activation_41[0][0]']       \n",
      "                                                                                                  \n",
      " conv2d_46 (Conv2D)          (None, 2, 2, 2048)           2099200   ['activation_39[0][0]']       \n",
      "                                                                                                  \n",
      " batch_normalization_45 (Ba  (None, 2, 2, 2048)           8192      ['conv2d_45[0][0]']           \n",
      " tchNormalization)                                                                                \n",
      "                                                                                                  \n",
      " batch_normalization_46 (Ba  (None, 2, 2, 2048)           8192      ['conv2d_46[0][0]']           \n",
      " tchNormalization)                                                                                \n",
      "                                                                                                  \n",
      " add_13 (Add)                (None, 2, 2, 2048)           0         ['batch_normalization_45[0][0]\n",
      "                                                                    ',                            \n",
      "                                                                     'batch_normalization_46[0][0]\n",
      "                                                                    ']                            \n",
      "                                                                                                  \n",
      " activation_42 (Activation)  (None, 2, 2, 2048)           0         ['add_13[0][0]']              \n",
      "                                                                                                  \n",
      " conv2d_47 (Conv2D)          (None, 2, 2, 512)            1049088   ['activation_42[0][0]']       \n",
      "                                                                                                  \n",
      " batch_normalization_47 (Ba  (None, 2, 2, 512)            2048      ['conv2d_47[0][0]']           \n",
      " tchNormalization)                                                                                \n",
      "                                                                                                  \n",
      " activation_43 (Activation)  (None, 2, 2, 512)            0         ['batch_normalization_47[0][0]\n",
      "                                                                    ']                            \n",
      "                                                                                                  \n",
      " conv2d_48 (Conv2D)          (None, 2, 2, 512)            2359808   ['activation_43[0][0]']       \n",
      "                                                                                                  \n",
      " batch_normalization_48 (Ba  (None, 2, 2, 512)            2048      ['conv2d_48[0][0]']           \n",
      " tchNormalization)                                                                                \n",
      "                                                                                                  \n",
      " activation_44 (Activation)  (None, 2, 2, 512)            0         ['batch_normalization_48[0][0]\n",
      "                                                                    ']                            \n",
      "                                                                                                  \n",
      " conv2d_49 (Conv2D)          (None, 2, 2, 2048)           1050624   ['activation_44[0][0]']       \n",
      "                                                                                                  \n",
      " batch_normalization_49 (Ba  (None, 2, 2, 2048)           8192      ['conv2d_49[0][0]']           \n",
      " tchNormalization)                                                                                \n",
      "                                                                                                  \n",
      " add_14 (Add)                (None, 2, 2, 2048)           0         ['batch_normalization_49[0][0]\n",
      "                                                                    ',                            \n",
      "                                                                     'activation_42[0][0]']       \n",
      "                                                                                                  \n",
      " activation_45 (Activation)  (None, 2, 2, 2048)           0         ['add_14[0][0]']              \n",
      "                                                                                                  \n",
      " conv2d_50 (Conv2D)          (None, 2, 2, 512)            1049088   ['activation_45[0][0]']       \n",
      "                                                                                                  \n",
      " batch_normalization_50 (Ba  (None, 2, 2, 512)            2048      ['conv2d_50[0][0]']           \n",
      " tchNormalization)                                                                                \n",
      "                                                                                                  \n",
      " activation_46 (Activation)  (None, 2, 2, 512)            0         ['batch_normalization_50[0][0]\n",
      "                                                                    ']                            \n",
      "                                                                                                  \n",
      " conv2d_51 (Conv2D)          (None, 2, 2, 512)            2359808   ['activation_46[0][0]']       \n",
      "                                                                                                  \n",
      " batch_normalization_51 (Ba  (None, 2, 2, 512)            2048      ['conv2d_51[0][0]']           \n",
      " tchNormalization)                                                                                \n",
      "                                                                                                  \n",
      " activation_47 (Activation)  (None, 2, 2, 512)            0         ['batch_normalization_51[0][0]\n",
      "                                                                    ']                            \n",
      "                                                                                                  \n",
      " conv2d_52 (Conv2D)          (None, 2, 2, 2048)           1050624   ['activation_47[0][0]']       \n",
      "                                                                                                  \n",
      " batch_normalization_52 (Ba  (None, 2, 2, 2048)           8192      ['conv2d_52[0][0]']           \n",
      " tchNormalization)                                                                                \n",
      "                                                                                                  \n",
      " add_15 (Add)                (None, 2, 2, 2048)           0         ['batch_normalization_52[0][0]\n",
      "                                                                    ',                            \n",
      "                                                                     'activation_45[0][0]']       \n",
      "                                                                                                  \n",
      " activation_48 (Activation)  (None, 2, 2, 2048)           0         ['add_15[0][0]']              \n",
      "                                                                                                  \n",
      " average_pooling2d (Average  (None, 1, 1, 2048)           0         ['activation_48[0][0]']       \n",
      " Pooling2D)                                                                                       \n",
      "                                                                                                  \n",
      " flatten (Flatten)           (None, 2048)                 0         ['average_pooling2d[0][0]']   \n",
      "                                                                                                  \n",
      " dense (Dense)               (None, 6)                    12294     ['flatten[0][0]']             \n",
      "                                                                                                  \n",
      "==================================================================================================\n",
      "Total params: 25765254 (98.29 MB)\n",
      "Trainable params: 25711110 (98.08 MB)\n",
      "Non-trainable params: 54144 (211.50 KB)\n",
      "__________________________________________________________________________________________________\n",
      "None\n"
     ]
    }
   ],
   "source": [
    "model = ResNet50(input_shape=(64, 64, 3), classes=6, training=True)\n",
    "print(model.summary())"
   ]
  },
  {
   "cell_type": "markdown",
   "id": "22846a23-1eb6-445f-917a-52867e080314",
   "metadata": {},
   "source": [
    "<a id=\"configure_learning_process\"></a>\n",
    "## Configure the learning process"
   ]
  },
  {
   "cell_type": "code",
   "execution_count": 6,
   "id": "a4e72a1d-eff8-4797-bf9a-c7ccd0891953",
   "metadata": {},
   "outputs": [],
   "source": [
    "np.random.seed(1)\n",
    "tf.random.set_seed(2)\n",
    "opt = tf.keras.optimizers.Adam(learning_rate=0.00015)\n",
    "model.compile(optimizer=opt, loss='categorical_crossentropy', metrics=['accuracy'])"
   ]
  },
  {
   "cell_type": "markdown",
   "id": "43c5997c-af29-4888-9544-d9a97ec8e7a8",
   "metadata": {
    "tags": []
   },
   "source": [
    "<a id=\"load_dataset\"></a>\n",
    "## Load the Dataset"
   ]
  },
  {
   "cell_type": "code",
   "execution_count": 7,
   "id": "232d68fe-5fe7-442a-8224-671f963846e7",
   "metadata": {},
   "outputs": [
    {
     "name": "stdout",
     "output_type": "stream",
     "text": [
      "number of training examples = 1080\n",
      "number of test examples = 120\n",
      "X_train shape: (1080, 64, 64, 3)\n",
      "Y_train shape: (1080, 6)\n",
      "X_test shape: (120, 64, 64, 3)\n",
      "Y_test shape: (120, 6)\n"
     ]
    }
   ],
   "source": [
    "X_train_orig, Y_train_orig, X_test_orig, Y_test_orig, classes = load_dataset()\n",
    "\n",
    "# Normalize image vectors\n",
    "X_train = X_train_orig / 255.\n",
    "X_test = X_test_orig / 255.\n",
    "\n",
    "# Convert training and testing labels to one hot matrices\n",
    "Y_train = convert_to_one_hot(Y_train_orig, 6).T\n",
    "Y_test = convert_to_one_hot(Y_test_orig, 6).T\n",
    "\n",
    "print (\"number of training examples = \" + str(X_train.shape[0]))\n",
    "print (\"number of test examples = \" + str(X_test.shape[0]))\n",
    "print (\"X_train shape: \" + str(X_train.shape))\n",
    "print (\"Y_train shape: \" + str(Y_train.shape))\n",
    "print (\"X_test shape: \" + str(X_test.shape))\n",
    "print (\"Y_test shape: \" + str(Y_test.shape))"
   ]
  },
  {
   "cell_type": "markdown",
   "id": "94a4a9d3-0202-4509-8fa2-e6873b44bc92",
   "metadata": {},
   "source": [
    "<a id=\"train_model\"></a>\n",
    "## Train ResNet50"
   ]
  },
  {
   "cell_type": "code",
   "execution_count": 8,
   "id": "2e5201d0-448c-4c60-9825-77e61f1bc290",
   "metadata": {},
   "outputs": [
    {
     "name": "stdout",
     "output_type": "stream",
     "text": [
      "Epoch 1/50\n",
      "34/34 - 79s - loss: 1.6604 - accuracy: 0.3519 - 79s/epoch - 2s/step\n",
      "Epoch 2/50\n",
      "34/34 - 67s - loss: 0.8772 - accuracy: 0.6907 - 67s/epoch - 2s/step\n",
      "Epoch 3/50\n",
      "34/34 - 66s - loss: 0.5759 - accuracy: 0.7880 - 66s/epoch - 2s/step\n",
      "Epoch 4/50\n",
      "34/34 - 67s - loss: 0.3167 - accuracy: 0.8917 - 67s/epoch - 2s/step\n",
      "Epoch 5/50\n",
      "34/34 - 67s - loss: 0.1880 - accuracy: 0.9352 - 67s/epoch - 2s/step\n",
      "Epoch 6/50\n",
      "34/34 - 53s - loss: 0.1758 - accuracy: 0.9370 - 53s/epoch - 2s/step\n",
      "Epoch 7/50\n",
      "34/34 - 48s - loss: 0.1484 - accuracy: 0.9472 - 48s/epoch - 1s/step\n",
      "Epoch 8/50\n",
      "34/34 - 47s - loss: 0.1786 - accuracy: 0.9398 - 47s/epoch - 1s/step\n",
      "Epoch 9/50\n",
      "34/34 - 47s - loss: 0.1387 - accuracy: 0.9528 - 47s/epoch - 1s/step\n",
      "Epoch 10/50\n",
      "34/34 - 48s - loss: 0.1037 - accuracy: 0.9657 - 48s/epoch - 1s/step\n",
      "Epoch 11/50\n",
      "34/34 - 49s - loss: 0.0700 - accuracy: 0.9806 - 49s/epoch - 1s/step\n",
      "Epoch 12/50\n",
      "34/34 - 48s - loss: 0.0579 - accuracy: 0.9787 - 48s/epoch - 1s/step\n",
      "Epoch 13/50\n",
      "34/34 - 47s - loss: 0.0703 - accuracy: 0.9778 - 47s/epoch - 1s/step\n",
      "Epoch 14/50\n",
      "34/34 - 48s - loss: 0.0906 - accuracy: 0.9704 - 48s/epoch - 1s/step\n",
      "Epoch 15/50\n",
      "34/34 - 49s - loss: 0.0768 - accuracy: 0.9731 - 49s/epoch - 1s/step\n",
      "Epoch 16/50\n",
      "34/34 - 48s - loss: 0.0505 - accuracy: 0.9824 - 48s/epoch - 1s/step\n",
      "Epoch 17/50\n",
      "34/34 - 52s - loss: 0.0885 - accuracy: 0.9741 - 52s/epoch - 2s/step\n",
      "Epoch 18/50\n",
      "34/34 - 51s - loss: 0.0722 - accuracy: 0.9796 - 51s/epoch - 1s/step\n",
      "Epoch 19/50\n",
      "34/34 - 49s - loss: 0.0428 - accuracy: 0.9889 - 49s/epoch - 1s/step\n",
      "Epoch 20/50\n",
      "34/34 - 48s - loss: 0.0577 - accuracy: 0.9806 - 48s/epoch - 1s/step\n",
      "Epoch 21/50\n",
      "34/34 - 52s - loss: 0.0690 - accuracy: 0.9843 - 52s/epoch - 2s/step\n",
      "Epoch 22/50\n",
      "34/34 - 51s - loss: 0.0138 - accuracy: 0.9954 - 51s/epoch - 1s/step\n",
      "Epoch 23/50\n",
      "34/34 - 49s - loss: 0.0178 - accuracy: 0.9944 - 49s/epoch - 1s/step\n",
      "Epoch 24/50\n",
      "34/34 - 50s - loss: 0.0092 - accuracy: 0.9972 - 50s/epoch - 1s/step\n",
      "Epoch 25/50\n",
      "34/34 - 48s - loss: 0.0148 - accuracy: 0.9972 - 48s/epoch - 1s/step\n",
      "Epoch 26/50\n",
      "34/34 - 48s - loss: 0.0040 - accuracy: 0.9991 - 48s/epoch - 1s/step\n",
      "Epoch 27/50\n",
      "34/34 - 48s - loss: 6.6048e-04 - accuracy: 1.0000 - 48s/epoch - 1s/step\n",
      "Epoch 28/50\n",
      "34/34 - 49s - loss: 4.0720e-04 - accuracy: 1.0000 - 49s/epoch - 1s/step\n",
      "Epoch 29/50\n",
      "34/34 - 48s - loss: 6.5197e-04 - accuracy: 1.0000 - 48s/epoch - 1s/step\n",
      "Epoch 30/50\n",
      "34/34 - 48s - loss: 4.9835e-04 - accuracy: 1.0000 - 48s/epoch - 1s/step\n",
      "Epoch 31/50\n",
      "34/34 - 48s - loss: 8.9760e-04 - accuracy: 1.0000 - 48s/epoch - 1s/step\n",
      "Epoch 32/50\n",
      "34/34 - 48s - loss: 2.8327e-04 - accuracy: 1.0000 - 48s/epoch - 1s/step\n",
      "Epoch 33/50\n",
      "34/34 - 48s - loss: 8.6883e-04 - accuracy: 1.0000 - 48s/epoch - 1s/step\n",
      "Epoch 34/50\n",
      "34/34 - 49s - loss: 2.7713e-04 - accuracy: 1.0000 - 49s/epoch - 1s/step\n",
      "Epoch 35/50\n",
      "34/34 - 48s - loss: 7.5034e-04 - accuracy: 1.0000 - 48s/epoch - 1s/step\n",
      "Epoch 36/50\n",
      "34/34 - 49s - loss: 3.4062e-04 - accuracy: 1.0000 - 49s/epoch - 1s/step\n",
      "Epoch 37/50\n",
      "34/34 - 49s - loss: 2.9879e-04 - accuracy: 1.0000 - 49s/epoch - 1s/step\n",
      "Epoch 38/50\n",
      "34/34 - 49s - loss: 1.4613e-04 - accuracy: 1.0000 - 49s/epoch - 1s/step\n",
      "Epoch 39/50\n",
      "34/34 - 48s - loss: 1.0236e-04 - accuracy: 1.0000 - 48s/epoch - 1s/step\n",
      "Epoch 40/50\n",
      "34/34 - 46s - loss: 7.2861e-04 - accuracy: 1.0000 - 46s/epoch - 1s/step\n",
      "Epoch 41/50\n",
      "34/34 - 49s - loss: 0.0061 - accuracy: 0.9972 - 49s/epoch - 1s/step\n",
      "Epoch 42/50\n",
      "34/34 - 47s - loss: 0.0057 - accuracy: 0.9981 - 47s/epoch - 1s/step\n",
      "Epoch 43/50\n",
      "34/34 - 46s - loss: 0.1139 - accuracy: 0.9657 - 46s/epoch - 1s/step\n",
      "Epoch 44/50\n",
      "34/34 - 46s - loss: 0.2952 - accuracy: 0.9185 - 46s/epoch - 1s/step\n",
      "Epoch 45/50\n",
      "34/34 - 46s - loss: 0.2481 - accuracy: 0.9213 - 46s/epoch - 1s/step\n",
      "Epoch 46/50\n",
      "34/34 - 48s - loss: 0.2004 - accuracy: 0.9481 - 48s/epoch - 1s/step\n",
      "Epoch 47/50\n",
      "34/34 - 49s - loss: 0.0835 - accuracy: 0.9694 - 49s/epoch - 1s/step\n",
      "Epoch 48/50\n",
      "34/34 - 48s - loss: 0.0662 - accuracy: 0.9833 - 48s/epoch - 1s/step\n",
      "Epoch 49/50\n",
      "34/34 - 48s - loss: 0.0311 - accuracy: 0.9935 - 48s/epoch - 1s/step\n",
      "Epoch 50/50\n",
      "34/34 - 48s - loss: 0.0088 - accuracy: 0.9963 - 48s/epoch - 1s/step\n"
     ]
    },
    {
     "data": {
      "text/plain": [
       "<keras.src.callbacks.History at 0x1c609e4c760>"
      ]
     },
     "execution_count": 8,
     "metadata": {},
     "output_type": "execute_result"
    }
   ],
   "source": [
    "model.fit(X_train, Y_train, epochs=50, batch_size=32, verbose=2)"
   ]
  },
  {
   "cell_type": "markdown",
   "id": "b6c1f00b-387d-4804-bd59-0905e06767b7",
   "metadata": {},
   "source": [
    "### model performance on test set"
   ]
  },
  {
   "cell_type": "code",
   "execution_count": 9,
   "id": "1c4c8a6c-c747-4b03-96c7-4a485d9d4fd3",
   "metadata": {},
   "outputs": [
    {
     "name": "stdout",
     "output_type": "stream",
     "text": [
      "4/4 [==============================] - 2s 116ms/step - loss: 0.3010 - accuracy: 0.9333\n",
      "Loss = 0.3009777069091797\n",
      "Accuracy = 0.9333333373069763\n"
     ]
    }
   ],
   "source": [
    "preds = model.evaluate(X_test, Y_test)\n",
    "print(\"Loss = \" + str(preds[0]))\n",
    "print(\"Accuracy = \" + str(preds[1]))"
   ]
  },
  {
   "cell_type": "markdown",
   "id": "08de731a-4efb-4a31-9d1e-4c26f05a82fb",
   "metadata": {},
   "source": [
    "<a id=\"save_model\"></a>\n",
    "## Save model"
   ]
  },
  {
   "cell_type": "code",
   "execution_count": 10,
   "id": "b7723b01-40e0-4c60-98ea-91d19bc3b64b",
   "metadata": {},
   "outputs": [
    {
     "name": "stderr",
     "output_type": "stream",
     "text": [
      "C:\\Users\\navilog\\anaconda3\\lib\\site-packages\\keras\\src\\engine\\training.py:3079: UserWarning: You are saving your model as an HDF5 file via `model.save()`. This file format is considered legacy. We recommend using instead the native Keras format, e.g. `model.save('my_model.keras')`.\n",
      "  saving_api.save_model(\n"
     ]
    }
   ],
   "source": [
    "model.save('models/resnet50.keras')"
   ]
  },
  {
   "cell_type": "markdown",
   "id": "2d2ee29b-78d8-4e02-9459-acea6c0ee049",
   "metadata": {},
   "source": [
    "## Test on our own images"
   ]
  },
  {
   "cell_type": "code",
   "execution_count": 80,
   "id": "db54a003-41cc-4231-b5ab-50ec15d2c23e",
   "metadata": {},
   "outputs": [],
   "source": [
    "def imageToArray(imageName):\n",
    "    # Load the image and resize it to the desired dimensions\n",
    "    #image_path = f'images/{imageName}'\n",
    "    image_path = f'images/test_images/{imageName}'\n",
    "    width, height = 64, 64\n",
    "\n",
    "    image = Image.open(image_path)\n",
    "    image = image.resize((width, height))\n",
    "    #print(image.width)\n",
    "    # Convert the image to a NumPy array and normalize the pixel values (if necessary)\n",
    "    image_array = np.asarray(image)\n",
    "    image_array = image_array / 255.  # Normalize the pixel values between 0 and 1\n",
    "    \n",
    "    plt.imshow(image_array)\n",
    "    plt.show()\n",
    "\n",
    "    print(image_array.shape)\n",
    "    # Reshape the image array to match the input shape of your model\n",
    "    image_array = image_array.reshape(1, width, height, 3)  # Assumes the input shape is (width, height, 3)\n",
    "\n",
    "    return image_array"
   ]
  },
  {
   "cell_type": "code",
   "execution_count": 81,
   "id": "de2587a7-fb86-4ef5-9210-9dbb22181937",
   "metadata": {},
   "outputs": [
    {
     "data": {
      "application/javascript": [
       "\n",
       "        if (window._pyforest_update_imports_cell) { window._pyforest_update_imports_cell('from PIL import Image\\nimport matplotlib.pyplot as plt'); }\n",
       "    "
      ],
      "text/plain": [
       "<IPython.core.display.Javascript object>"
      ]
     },
     "metadata": {},
     "output_type": "display_data"
    },
    {
     "data": {
      "application/javascript": [
       "\n",
       "        if (window._pyforest_update_imports_cell) { window._pyforest_update_imports_cell('from PIL import Image\\nimport matplotlib.pyplot as plt'); }\n",
       "    "
      ],
      "text/plain": [
       "<IPython.core.display.Javascript object>"
      ]
     },
     "metadata": {},
     "output_type": "display_data"
    },
    {
     "data": {
      "application/javascript": [
       "\n",
       "        if (window._pyforest_update_imports_cell) { window._pyforest_update_imports_cell('from PIL import Image\\nimport matplotlib.pyplot as plt'); }\n",
       "    "
      ],
      "text/plain": [
       "<IPython.core.display.Javascript object>"
      ]
     },
     "metadata": {},
     "output_type": "display_data"
    },
    {
     "data": {
      "image/png": "[encoded data removed]",
      "text/plain": [
       "<Figure size 640x480 with 1 Axes>"
      ]
     },
     "metadata": {},
     "output_type": "display_data"
    },
    {
     "name": "stdout",
     "output_type": "stream",
     "text": [
      "(64, 64, 3)\n",
      "1/1 [==============================] - 0s 70ms/step\n",
      "2\n"
     ]
    },
    {
     "data": {
      "application/javascript": [
       "\n",
       "        if (window._pyforest_update_imports_cell) { window._pyforest_update_imports_cell('from PIL import Image\\nimport matplotlib.pyplot as plt'); }\n",
       "    "
      ],
      "text/plain": [
       "<IPython.core.display.Javascript object>"
      ]
     },
     "metadata": {},
     "output_type": "display_data"
    },
    {
     "data": {
      "application/javascript": [
       "\n",
       "        if (window._pyforest_update_imports_cell) { window._pyforest_update_imports_cell('from PIL import Image\\nimport matplotlib.pyplot as plt'); }\n",
       "    "
      ],
      "text/plain": [
       "<IPython.core.display.Javascript object>"
      ]
     },
     "metadata": {},
     "output_type": "display_data"
    },
    {
     "data": {
      "application/javascript": [
       "\n",
       "        if (window._pyforest_update_imports_cell) { window._pyforest_update_imports_cell('from PIL import Image\\nimport matplotlib.pyplot as plt'); }\n",
       "    "
      ],
      "text/plain": [
       "<IPython.core.display.Javascript object>"
      ]
     },
     "metadata": {},
     "output_type": "display_data"
    },
    {
     "data": {
      "image/png": "[encoded data removed]",
      "text/plain": [
       "<Figure size 640x480 with 1 Axes>"
      ]
     },
     "metadata": {},
     "output_type": "display_data"
    },
    {
     "name": "stdout",
     "output_type": "stream",
     "text": [
      "(64, 64, 3)\n",
      "1/1 [==============================] - 0s 50ms/step\n",
      "5\n"
     ]
    },
    {
     "data": {
      "application/javascript": [
       "\n",
       "        if (window._pyforest_update_imports_cell) { window._pyforest_update_imports_cell('from PIL import Image\\nimport matplotlib.pyplot as plt'); }\n",
       "    "
      ],
      "text/plain": [
       "<IPython.core.display.Javascript object>"
      ]
     },
     "metadata": {},
     "output_type": "display_data"
    },
    {
     "data": {
      "application/javascript": [
       "\n",
       "        if (window._pyforest_update_imports_cell) { window._pyforest_update_imports_cell('from PIL import Image\\nimport matplotlib.pyplot as plt'); }\n",
       "    "
      ],
      "text/plain": [
       "<IPython.core.display.Javascript object>"
      ]
     },
     "metadata": {},
     "output_type": "display_data"
    },
    {
     "data": {
      "application/javascript": [
       "\n",
       "        if (window._pyforest_update_imports_cell) { window._pyforest_update_imports_cell('from PIL import Image\\nimport matplotlib.pyplot as plt'); }\n",
       "    "
      ],
      "text/plain": [
       "<IPython.core.display.Javascript object>"
      ]
     },
     "metadata": {},
     "output_type": "display_data"
    },
    {
     "data": {
      "image/png": "[encoded data removed]",
      "text/plain": [
       "<Figure size 640x480 with 1 Axes>"
      ]
     },
     "metadata": {},
     "output_type": "display_data"
    },
    {
     "name": "stdout",
     "output_type": "stream",
     "text": [
      "(64, 64, 3)\n",
      "1/1 [==============================] - 0s 47ms/step\n",
      "4\n"
     ]
    },
    {
     "data": {
      "application/javascript": [
       "\n",
       "        if (window._pyforest_update_imports_cell) { window._pyforest_update_imports_cell('from PIL import Image\\nimport matplotlib.pyplot as plt'); }\n",
       "    "
      ],
      "text/plain": [
       "<IPython.core.display.Javascript object>"
      ]
     },
     "metadata": {},
     "output_type": "display_data"
    },
    {
     "data": {
      "application/javascript": [
       "\n",
       "        if (window._pyforest_update_imports_cell) { window._pyforest_update_imports_cell('from PIL import Image\\nimport matplotlib.pyplot as plt'); }\n",
       "    "
      ],
      "text/plain": [
       "<IPython.core.display.Javascript object>"
      ]
     },
     "metadata": {},
     "output_type": "display_data"
    },
    {
     "data": {
      "application/javascript": [
       "\n",
       "        if (window._pyforest_update_imports_cell) { window._pyforest_update_imports_cell('from PIL import Image\\nimport matplotlib.pyplot as plt'); }\n",
       "    "
      ],
      "text/plain": [
       "<IPython.core.display.Javascript object>"
      ]
     },
     "metadata": {},
     "output_type": "display_data"
    },
    {
     "data": {
      "image/png": "[encoded data removed]",
      "text/plain": [
       "<Figure size 640x480 with 1 Axes>"
      ]
     },
     "metadata": {},
     "output_type": "display_data"
    },
    {
     "name": "stdout",
     "output_type": "stream",
     "text": [
      "(64, 64, 3)\n",
      "1/1 [==============================] - 0s 46ms/step\n",
      "5\n"
     ]
    },
    {
     "data": {
      "application/javascript": [
       "\n",
       "        if (window._pyforest_update_imports_cell) { window._pyforest_update_imports_cell('from PIL import Image\\nimport matplotlib.pyplot as plt'); }\n",
       "    "
      ],
      "text/plain": [
       "<IPython.core.display.Javascript object>"
      ]
     },
     "metadata": {},
     "output_type": "display_data"
    },
    {
     "data": {
      "application/javascript": [
       "\n",
       "        if (window._pyforest_update_imports_cell) { window._pyforest_update_imports_cell('from PIL import Image\\nimport matplotlib.pyplot as plt'); }\n",
       "    "
      ],
      "text/plain": [
       "<IPython.core.display.Javascript object>"
      ]
     },
     "metadata": {},
     "output_type": "display_data"
    },
    {
     "data": {
      "application/javascript": [
       "\n",
       "        if (window._pyforest_update_imports_cell) { window._pyforest_update_imports_cell('from PIL import Image\\nimport matplotlib.pyplot as plt'); }\n",
       "    "
      ],
      "text/plain": [
       "<IPython.core.display.Javascript object>"
      ]
     },
     "metadata": {},
     "output_type": "display_data"
    },
    {
     "data": {
      "image/png": "[encoded data removed]",
      "text/plain": [
       "<Figure size 640x480 with 1 Axes>"
      ]
     },
     "metadata": {},
     "output_type": "display_data"
    },
    {
     "name": "stdout",
     "output_type": "stream",
     "text": [
      "(64, 64, 3)\n",
      "1/1 [==============================] - 0s 45ms/step\n",
      "5\n"
     ]
    }
   ],
   "source": [
    "#test_images = ['0.jpg', '1.jpg', '2.jpg', '3.jpg', '4.jpg', '5.jpg', '6.jpg', '7.jpeg', '8.jpeg', '9.jpeg', '10.jpg']\n",
    "test_images = ['6.jpg', '7.jpg', '8.jpg', '9.jpg', '10.jpg']\n",
    "for img in test_images:\n",
    "    img_array = imageToArray(img)\n",
    "    predicted = model.predict(img_array)\n",
    "    print(np.argmax(predicted))"
   ]
  },
  {
   "cell_type": "code",
   "execution_count": null,
   "id": "5f8c2592-f74f-443f-bcf6-25c37973a879",
   "metadata": {},
   "outputs": [],
   "source": []
  }
 ],
 "metadata": {
  "kernelspec": {
   "display_name": "Python 3 (ipykernel)",
   "language": "python",
   "name": "python3"
  },
  "language_info": {
   "codemirror_mode": {
    "name": "ipython",
    "version": 3
   },
   "file_extension": ".py",
   "mimetype": "text/x-python",
   "name": "python",
   "nbconvert_exporter": "python",
   "pygments_lexer": "ipython3",
   "version": "3.10.9"
  }
 },
 "nbformat": 4,
 "nbformat_minor": 5
}
